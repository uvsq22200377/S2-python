{
 "cells": [
  {
   "attachments": {},
   "cell_type": "markdown",
   "metadata": {},
   "source": [
    "a) Une fonction nommée cree_fichier_alea(nb, nomfichier) prenant un argument entier et un argument\n",
    "chaîne de caractères. Cette fonction créera sur le disque dur un fichier de texte, qui sera nommé selon le\n",
    "paramètre nomfichier, et qui contiendra nb lignes. Chaque ligne devra être formée de 2 nombres flottants\n",
    "aléatoires entre 0 et 500, séparés par un espace. Un tel fichier pourra ainsi représenter un nuage de points.\n",
    "Pour générer ces abscisses et ordonnées aléatoires, on utilisera une loi uniforme entre 0 et 500 (on\n",
    "importera pour cela le module random). Cette fonction ne renverra rien."
   ]
  },
  {
   "cell_type": "code",
   "execution_count": 5,
   "metadata": {},
   "outputs": [],
   "source": [
    "import random\n",
    "lignes = 2\n",
    "nomfichier = \"nombrealéatoires\"\n",
    "def cree_fichier_alea(lignes,nomfichier):\n",
    "    lignes = 2\n",
    "    nomfichier = \"nombrealéatoires\"\n",
    "    file = open(\"nombrealéatoires.txt\", \"w\") \n",
    "    file.write(random.randint(0,500)) \n",
    "    float (file)\n",
    "    file.close()\n",
    "# mon code"
   ]
  },
  {
   "cell_type": "code",
   "execution_count": 7,
   "metadata": {},
   "outputs": [],
   "source": [
    "import random\n",
    "def cree_fichier_alea(nb,nomfichier):\n",
    "    nb = 2\n",
    "    nomfichier = \"nombrealéatoires\"\n",
    "    fichier = open(nomfichier,'w')\n",
    "    for i in range(nb):\n",
    "        x = random.randint(0,500)\n",
    "        y = random.randint(0,500)\n",
    "        fichier.write(float(x)+' '+float(y))\n",
    "    fichier.close()\n",
    "\n",
    "\n",
    "# code IA + modification"
   ]
  },
  {
   "attachments": {},
   "cell_type": "markdown",
   "metadata": {},
   "source": [
    "Une fonction nommée lit_fichier(nomfic) prenant un argument de type chaîne de caractères\n",
    "représentant le nom d'un fichier sur le disque dur. Ce fichier sera supposé contenir sur chaque ligne, 2\n",
    "nombres séparés par un espace qui représenteront les cooordonnées d'un point d'un nuage de points. La\n",
    "fonction ouvrira et lira ce fichier, puis elle renverra deux listes listeX et listeY. La première liste\n",
    "contiendra toutes les abscisses des points du nuage, c'est à dire tous les nombres de la première colonne\n",
    "du fichier. La deuxième liste contiendra toutes les ordonnées des points du nuage (dans le même ordre\n",
    "que les abscisses) c'est à dire tous les nombres de la 2ème colonne du fichier. Par exemple, si le fichier\n",
    "contient les 3 lignes suivantes :\n",
    "x1 y1\n",
    "x2 y2\n",
    "x3 y3\n",
    "alors les 2 listes renvoyées par la fonbction seront : [x1,x2,x3] et [y1, y2, y3]."
   ]
  },
  {
   "cell_type": "code",
   "execution_count": 10,
   "metadata": {},
   "outputs": [
    {
     "name": "stdout",
     "output_type": "stream",
     "text": [
      "<function lit_fichier at 0x0000021DB6E1D160>\n"
     ]
    }
   ],
   "source": [
    "def  lit_fichier(nomfic):\n",
    "    nomfic = \"coordonées\"\n",
    "    listeX = []\n",
    "    listeY = []\n",
    "    fichier = open(nomfichier,'r')\n",
    "    for ligne in fichier:\n",
    "        listeX.append(ligne[0])\n",
    "        listeY.append(ligne[1])\n",
    "    fichier.close"
   ]
  },
  {
   "cell_type": "code",
   "execution_count": null,
   "metadata": {},
   "outputs": [],
   "source": []
  }
 ],
 "metadata": {
  "kernelspec": {
   "display_name": "base",
   "language": "python",
   "name": "python3"
  },
  "language_info": {
   "codemirror_mode": {
    "name": "ipython",
    "version": 3
   },
   "file_extension": ".py",
   "mimetype": "text/x-python",
   "name": "python",
   "nbconvert_exporter": "python",
   "pygments_lexer": "ipython3",
   "version": "3.9.12"
  },
  "orig_nbformat": 4
 },
 "nbformat": 4,
 "nbformat_minor": 2
}
