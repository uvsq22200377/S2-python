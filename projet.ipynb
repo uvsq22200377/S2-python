{
 "cells": [
  {
   "attachments": {},
   "cell_type": "markdown",
   "metadata": {},
   "source": [
    "a) Une fonction nommée cree_fichier_alea(nb, nomfichier) prenant un argument entier et un argument\n",
    "chaîne de caractères. Cette fonction créera sur le disque dur un fichier de texte, qui sera nommé selon le\n",
    "paramètre nomfichier, et qui contiendra nb lignes. Chaque ligne devra être formée de 2 nombres flottants\n",
    "aléatoires entre 0 et 500, séparés par un espace. Un tel fichier pourra ainsi représenter un nuage de points.\n",
    "Pour générer ces abscisses et ordonnées aléatoires, on utilisera une loi uniforme entre 0 et 500 (on\n",
    "importera pour cela le module random). Cette fonction ne renverra rien."
   ]
  },
  {
   "cell_type": "code",
   "execution_count": 15,
   "metadata": {},
   "outputs": [],
   "source": [
    "import random\n",
    "def cree_fichier_alea(nb,nomfichier):\n",
    "    nb = 2\n",
    "    nomfichier = \"nombrealéatoires\"\n",
    "    fichier = open(nomfichier,'w')\n",
    "    for i in range(nb):\n",
    "        x = random.randint(0,500)\n",
    "        y = random.randint(0,500)\n",
    "        fichier.write(float(x)+' '+float(y))\n",
    "    fichier.close()\n",
    "\n"
   ]
  },
  {
   "attachments": {},
   "cell_type": "markdown",
   "metadata": {},
   "source": [
    "Une fonction nommée lit_fichier(nomfic) prenant un argument de type chaîne de caractères\n",
    "représentant le nom d'un fichier sur le disque dur. Ce fichier sera supposé contenir sur chaque ligne, 2\n",
    "nombres séparés par un espace qui représenteront les cooordonnées d'un point d'un nuage de points. La\n",
    "fonction ouvrira et lira ce fichier, puis elle renverra deux listes listeX et listeY. La première liste\n",
    "contiendra toutes les abscisses des points du nuage, c'est à dire tous les nombres de la première colonne\n",
    "du fichier. La deuxième liste contiendra toutes les ordonnées des points du nuage (dans le même ordre\n",
    "que les abscisses) c'est à dire tous les nombres de la 2ème colonne du fichier. Par exemple, si le fichier\n",
    "contient les 3 lignes suivantes :\n",
    "x1 y1\n",
    "x2 y2\n",
    "x3 y3\n",
    "alors les 2 listes renvoyées par la fonbction seront : [x1,x2,x3] et [y1, y2, y3]."
   ]
  },
  {
   "cell_type": "code",
   "execution_count": 5,
   "metadata": {},
   "outputs": [],
   "source": [
    "def  lit_fichier(nomfic):\n",
    "    nomfic = \"coordonées\"\n",
    "    listeX = []\n",
    "    listeY = []\n",
    "    fichier = open(nomfic,'r')\n",
    "    for ligne in fichier:\n",
    "        listeX.append(ligne[0])\n",
    "        listeY.append(ligne[1])\n",
    "    fichier.close\n",
    "\n",
    "    return lit_fichier\n",
    "# comment faire ressortir les listes ?"
   ]
  },
  {
   "attachments": {},
   "cell_type": "markdown",
   "metadata": {},
   "source": [
    "c) Une fonction nommée trace_Nuage(nomf) prenant un argument de type chaîne de caractères,\n",
    "représentant le nom d'un fichier. Ce fichier sera supposé contenir les coordonnées des points d'un nuage\n",
    "sous la forme de lignes de 2 nombres séparés par un espace. Cette fonction appellera tout d'abord la\n",
    "fonction lit_fichier() pour ouvrir le fichier et obtenir les coordonnées des points du nuage, puis elle\n",
    "représentera graphiquement le nuage de points correspondant. Enfin, elle renverra le nombre de points\n",
    "dessinés (on comptabilisera comme des points différents tous les points dont les coordonnées sont\n",
    "fournies par le fichier, même si certains de ces points ont des coordonnées identiques)."
   ]
  },
  {
   "cell_type": "code",
   "execution_count": 16,
   "metadata": {},
   "outputs": [],
   "source": [
    "def trace_nuage(nomf):\n",
    "    points = lit_fichier(nomf)\n",
    "    trace_nuage(points)\n",
    "    return len (points)\n",
    "# comment faire ressortir le nuage de points ?"
   ]
  },
  {
   "attachments": {},
   "cell_type": "markdown",
   "metadata": {},
   "source": [
    "d) Une fonction nommée trace_droite(a, b) prenant 2 arguments flottants représentant le coefficient\n",
    "directeur a et l'ordonnée à l'origine b d'une droite, qui déterminera les coordonnéees de 2 points de cette\n",
    "droite afin qu'une ligne reliant ces 2 points soit représentée graphiquement. Cette fonction ne retournera\n",
    "rien."
   ]
  },
  {
   "cell_type": "code",
   "execution_count": 17,
   "metadata": {},
   "outputs": [],
   "source": [
    "def trace_droite(a, b):\n",
    "    liste_points = []\n",
    "    liste_points.append(a*(-b)+b)\n",
    "    liste_points.append(a*(-b)+a*(-b))\n",
    "    #comment faire sortir une droite ?"
   ]
  },
  {
   "cell_type": "code",
   "execution_count": null,
   "metadata": {},
   "outputs": [],
   "source": []
  }
 ],
 "metadata": {
  "kernelspec": {
   "display_name": "base",
   "language": "python",
   "name": "python3"
  },
  "language_info": {
   "codemirror_mode": {
    "name": "ipython",
    "version": 3
   },
   "file_extension": ".py",
   "mimetype": "text/x-python",
   "name": "python",
   "nbconvert_exporter": "python",
   "pygments_lexer": "ipython3",
   "version": "3.9.12"
  },
  "orig_nbformat": 4
 },
 "nbformat": 4,
 "nbformat_minor": 2
}
