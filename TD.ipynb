{
 "cells": [
  {
   "cell_type": "code",
   "execution_count": null,
   "metadata": {},
   "outputs": [],
   "source": [
    "import tkinter as tk\n",
    "def mamethode():\n",
    "    pass\n",
    "\n",
    "root = tk.Tk()\n",
    "root.title(\"ma fenêtre principale\")\n",
    "montexte = tk.Label(root, text=\"Hello\")\n",
    "bouton = tk.Button(root, text=\"monbouton\", command=mamethode)\n",
    "\n",
    "\n",
    "bouton.grid()\n",
    "montexte.grid()\n",
    "root.mainloop()"
   ]
  }
 ],
 "metadata": {
  "kernelspec": {
   "display_name": "base",
   "language": "python",
   "name": "python3"
  },
  "language_info": {
   "codemirror_mode": {
    "name": "ipython",
    "version": 3
   },
   "file_extension": ".py",
   "mimetype": "text/x-python",
   "name": "python",
   "nbconvert_exporter": "python",
   "pygments_lexer": "ipython3",
   "version": "3.9.12"
  },
  "orig_nbformat": 4
 },
 "nbformat": 4,
 "nbformat_minor": 2
}
