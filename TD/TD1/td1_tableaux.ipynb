{
 "cells": [
  {
   "cell_type": "markdown",
   "metadata": {
    "deletable": false,
    "editable": false,
    "run_control": {
     "frozen": true
    }
   },
   "source": [
    "# TD : Listes en python "
   ]
  },
  {
   "cell_type": "markdown",
   "metadata": {
    "deletable": false,
    "editable": false,
    "run_control": {
     "frozen": true
    }
   },
   "source": [
    "## Exercice 1 : Insertion dans un tableau"
   ]
  },
  {
   "cell_type": "markdown",
   "metadata": {
    "deletable": false,
    "editable": false,
    "run_control": {
     "frozen": true
    }
   },
   "source": [
    "Définir une fonction `insertion_tableau` prenant en paramètre une liste `L`, une valeur `v` et un indice `i` et insérant la valeur `v` à l'indice `i` dans `L` (fonction comparable à `L.insert(i,v)` définie en Python). \n",
    "\n",
    "Cette fonction ne doit pas utiliser la fonction `L.insert`, seule la fonction  `L.append` est permise pour augmenter la taille du tableau."
   ]
  },
  {
   "cell_type": "code",
   "execution_count": 25,
   "metadata": {
    "tags": [
     "answer"
    ]
   },
   "outputs": [
    {
     "name": "stdout",
     "output_type": "stream",
     "text": [
      "None\n",
      "[1, 2, 12, 3, 4]\n"
     ]
    }
   ],
   "source": [
    "def insertion_tableau(L,i,v):\n",
    "    L.append(v)\n",
    "    for j in range (len(L)-1,i,-1):\n",
    "        L[j],L[j-1]=L[j-1],L[j]\n",
    "    \n",
    "    \n",
    "L=[1,2,3,4]\n",
    "i= 2\n",
    "v= 12\n",
    "\n",
    "print(insertion_tableau(L,i,v))\n",
    "print(L)\n"
   ]
  },
  {
   "cell_type": "markdown",
   "metadata": {
    "deletable": false,
    "editable": false,
    "run_control": {
     "frozen": true
    }
   },
   "source": [
    "Quelle est la complexité asymptotique de la fonction `insertion_tableau` ?"
   ]
  },
  {
   "attachments": {},
   "cell_type": "markdown",
   "metadata": {
    "deletable": false,
    "run_control": {
     "frozen": false
    },
    "tags": [
     "answer"
    ]
   },
   "source": [
    "**Réponse :** 1\n",
    "\n",
    "\n"
   ]
  },
  {
   "cell_type": "markdown",
   "metadata": {
    "deletable": false,
    "editable": false,
    "run_control": {
     "frozen": true
    }
   },
   "source": [
    "## Exercice 2 : suppression d'un élément dans un tableau\n",
    "\n",
    "Définir la fonction `suppression_tableau` prenant en paramètre un tableau et un indice et supprimant dans le tableau l'élément se trouvant à l'indice donné (fonction similaire à `L.pop(i)`). \n",
    "\n",
    "Pour supprimer un élément, la fonction peut juste appeler la fonction `L.pop()` (sans argument) pour supprimer la dernière case."
   ]
  },
  {
   "cell_type": "code",
   "execution_count": 33,
   "metadata": {
    "tags": [
     "answer"
    ]
   },
   "outputs": [
    {
     "name": "stdout",
     "output_type": "stream",
     "text": [
      "None\n",
      "[1, 2, 3]\n"
     ]
    }
   ],
   "source": [
    "def suppression_tableau(L):\n",
    "    L.pop()\n",
    "    for j in range(len(L)-1,i,-1):\n",
    "        L[j],L[j-1]=L[j-1],L[j]\n",
    "\n",
    "L=[1,2,3,4]\n",
    "\n",
    "print(suppression_tableau(L))\n",
    "print(L)"
   ]
  },
  {
   "cell_type": "markdown",
   "metadata": {
    "deletable": false,
    "editable": false,
    "run_control": {
     "frozen": true
    }
   },
   "source": [
    "Quelle est la complexité de la fonction `suppression_tableau` ?"
   ]
  },
  {
   "attachments": {},
   "cell_type": "markdown",
   "metadata": {
    "deletable": false,
    "run_control": {
     "frozen": false
    },
    "tags": [
     "answer"
    ]
   },
   "source": [
    "**Réponse :** 1\n",
    "\n",
    "\n"
   ]
  },
  {
   "cell_type": "markdown",
   "metadata": {
    "deletable": false,
    "editable": false,
    "run_control": {
     "frozen": true
    }
   },
   "source": [
    "## Exercice 3 : Copie d'un tableau"
   ]
  },
  {
   "cell_type": "markdown",
   "metadata": {
    "deletable": false,
    "editable": false,
    "run_control": {
     "frozen": true
    }
   },
   "source": [
    "Définir la fonction `copie_tableau` retournant une copie du tableau `L` passé en paramètre (fonction comparable à `L.copy()`). \n",
    "\n",
    "Cette fonction ne doit pas utiliser la fonction `L.copy`, seule la fonction `L.append` est permise pour augmenter la taille du tableau."
   ]
  },
  {
   "cell_type": "code",
   "execution_count": 3,
   "metadata": {
    "tags": [
     "answer"
    ]
   },
   "outputs": [
    {
     "ename": "NameError",
     "evalue": "name 'i' is not defined",
     "output_type": "error",
     "traceback": [
      "\u001b[1;31m---------------------------------------------------------------------------\u001b[0m",
      "\u001b[1;31mNameError\u001b[0m                                 Traceback (most recent call last)",
      "Cell \u001b[1;32mIn[3], line 8\u001b[0m\n\u001b[0;32m      4\u001b[0m         L[j],L[j\u001b[39m-\u001b[39m\u001b[39m1\u001b[39m]\u001b[39m=\u001b[39mL[j\u001b[39m-\u001b[39m\u001b[39m1\u001b[39m],L[j]\n\u001b[0;32m      6\u001b[0m L\u001b[39m=\u001b[39m[\u001b[39m1\u001b[39m,\u001b[39m2\u001b[39m,\u001b[39m3\u001b[39m,\u001b[39m4\u001b[39m]\n\u001b[1;32m----> 8\u001b[0m \u001b[39mprint\u001b[39m(suppression_tableau(L))\n\u001b[0;32m      9\u001b[0m \u001b[39mprint\u001b[39m(L)\n",
      "Cell \u001b[1;32mIn[2], line 3\u001b[0m, in \u001b[0;36msuppression_tableau\u001b[1;34m(L)\u001b[0m\n\u001b[0;32m      1\u001b[0m \u001b[39mdef\u001b[39;00m \u001b[39msuppression_tableau\u001b[39m(L):\n\u001b[0;32m      2\u001b[0m     L\u001b[39m.\u001b[39mpop()\n\u001b[1;32m----> 3\u001b[0m     \u001b[39mfor\u001b[39;00m j \u001b[39min\u001b[39;00m \u001b[39mrange\u001b[39m(\u001b[39mlen\u001b[39m(L)\u001b[39m-\u001b[39m\u001b[39m1\u001b[39m,i,\u001b[39m-\u001b[39m\u001b[39m1\u001b[39m):\n\u001b[0;32m      4\u001b[0m         L[j],L[j\u001b[39m-\u001b[39m\u001b[39m1\u001b[39m]\u001b[39m=\u001b[39mL[j\u001b[39m-\u001b[39m\u001b[39m1\u001b[39m],L[j]\n",
      "\u001b[1;31mNameError\u001b[0m: name 'i' is not defined"
     ]
    }
   ],
   "source": [
    "def copie_tableau(L):\n",
    "    L.pop()\n",
    "    for j in range(len(L)-1,i,-1):\n",
    "        L[j],L[j-1]=L[j-1],L[j]\n",
    "\n",
    "L=[1,2,3,4]\n",
    "\n",
    "print(suppression_tableau(L))\n",
    "print(L)"
   ]
  },
  {
   "cell_type": "markdown",
   "metadata": {
    "deletable": false,
    "editable": false,
    "run_control": {
     "frozen": true
    }
   },
   "source": [
    "Quelle est la complexité asymptotique de la fonction `copie_tableau` ?"
   ]
  },
  {
   "cell_type": "markdown",
   "metadata": {
    "deletable": false,
    "run_control": {
     "frozen": false
    },
    "tags": [
     "answer"
    ]
   },
   "source": [
    "**Réponse :** Écrire votre réponse ici.\n",
    "\n",
    "\n"
   ]
  },
  {
   "cell_type": "markdown",
   "metadata": {
    "deletable": false,
    "editable": false,
    "run_control": {
     "frozen": true
    }
   },
   "source": [
    "## Exercice 4 : Fonctions sur des  listes (tableaux) triées ou non triées"
   ]
  },
  {
   "cell_type": "markdown",
   "metadata": {
    "deletable": false,
    "editable": false,
    "run_control": {
     "frozen": true
    }
   },
   "source": [
    "Les questions de cet exercice ont pour objet de manipuler les listes/tableaux en Python et de comparer ce qui se passe si on travaille avec des tableaux triés ou des tableaux quelconques. Pour chacune des fonctions à implémenter, on définira deux versions : \n",
    "\n",
    "* une première version prendra en paramètre une liste de nombres quelconques. Pour plus d'efficacité, la fonction pourra modifier l'ordre des éléments dans la liste,\n",
    "\n",
    "* la seconde version prendra en paramètre une liste de nombres triés dans l'ordre croissant ; la liste devra rester triée."
   ]
  },
  {
   "cell_type": "markdown",
   "metadata": {
    "deletable": false,
    "editable": false,
    "run_control": {
     "frozen": true
    }
   },
   "source": [
    "### Question 1 : Minimum d'un tableau"
   ]
  },
  {
   "cell_type": "markdown",
   "metadata": {
    "deletable": false,
    "editable": false,
    "run_control": {
     "frozen": true
    }
   },
   "source": [
    "* Définir la fonction `minimum_tableau` prenant en paramètre un tableau de nombres et retournant le minimum."
   ]
  },
  {
   "cell_type": "code",
   "execution_count": 11,
   "id": "72c1e966",
   "metadata": {},
   "outputs": [
    {
     "name": "stdout",
     "output_type": "stream",
     "text": [
      "Le minimum du tableau est :  -5\n"
     ]
    }
   ],
   "source": [
    "def minimum_tableau(tableau):\n",
    "    min = tableau[0]\n",
    "    for i in range(1, len(tableau)):\n",
    "        if tableau[i] < min:\n",
    "            min = tableau[i]\n",
    "    return min\n",
    "\n",
    "\n",
    "nombres = [8, 3, 10, -5, 1]\n",
    "\n",
    "\n",
    "resultat = minimum_tableau(nombres)\n",
    "print(\"Le minimum du tableau est : \", resultat)"
   ]
  },
  {
   "cell_type": "markdown",
   "metadata": {
    "deletable": false,
    "editable": false,
    "run_control": {
     "frozen": true
    }
   },
   "source": [
    "* Définir la fonction `minimum_tableau_trie` prenant en paramètre un tableau de nombres triés dans l'ordre croissant et retournant le minimum."
   ]
  },
  {
   "cell_type": "code",
   "execution_count": 21,
   "metadata": {
    "tags": [
     "answer"
    ]
   },
   "outputs": [
    {
     "name": "stdout",
     "output_type": "stream",
     "text": [
      "1\n"
     ]
    }
   ],
   "source": [
    "def minimum_tableau_trie(tableau):\n",
    "    return tableau[0]\n",
    "\n",
    "tableau_trié= [1, 3, 5, 7, 9,]\n",
    "minimum = minimum_tableau_trie(tableau)\n",
    "print(minimum) "
   ]
  },
  {
   "cell_type": "markdown",
   "metadata": {
    "deletable": false,
    "editable": false,
    "run_control": {
     "frozen": true
    }
   },
   "source": [
    "- Quelle est la complexité dans le pire des cas de chacune de ces fonctions ?"
   ]
  },
  {
   "cell_type": "markdown",
   "metadata": {
    "deletable": false,
    "run_control": {
     "frozen": false
    },
    "tags": [
     "answer"
    ]
   },
   "source": [
    "**Réponse :** Écrire votre réponse ici.\n",
    "\n",
    "\n"
   ]
  },
  {
   "cell_type": "markdown",
   "metadata": {
    "deletable": false,
    "editable": false,
    "run_control": {
     "frozen": true
    }
   },
   "source": [
    "### Question 2 : Ajout d'un élément"
   ]
  },
  {
   "cell_type": "markdown",
   "metadata": {
    "deletable": false,
    "editable": false,
    "run_control": {
     "frozen": true
    }
   },
   "source": [
    "* Définir la fonction `ajouter_tableau` ajoutant un nombre à un tableau de nombres."
   ]
  },
  {
   "cell_type": "code",
   "execution_count": 28,
   "id": "6eb05a1c",
   "metadata": {},
   "outputs": [
    {
     "name": "stdout",
     "output_type": "stream",
     "text": [
      "[1, 2, 3, 4, 5]\n"
     ]
    }
   ],
   "source": [
    "def ajouter_tableau(tableau, nombre):\n",
    "    tableau.append(nombre)\n",
    "tableau = [1, 2, 3]\n",
    "ajouter_tableau(tableau, 4)\n",
    "ajouter_tableau(tableau, 5)\n",
    "print(tableau) # affiche [1, 2, 3, 4, 5]"
   ]
  },
  {
   "cell_type": "markdown",
   "metadata": {
    "deletable": false,
    "editable": false,
    "run_control": {
     "frozen": true
    }
   },
   "source": [
    "* Définir la fonction `ajouter_tableau_trie` ajoutant un nombre à un tableau trié."
   ]
  },
  {
   "cell_type": "code",
   "execution_count": 37,
   "id": "7551c777",
   "metadata": {},
   "outputs": [
    {
     "name": "stdout",
     "output_type": "stream",
     "text": [
      "[1, 3, 5, 7, 4, 2, 6]\n"
     ]
    }
   ],
   "source": [
    "def ajouter_tableau_trie(tableau, nombre):\n",
    "    i = 0\n",
    "    while i < len(tableau) and nombre < tableau[i]:\n",
    "        i += 1\n",
    "    tableau.append(nombre)\n",
    "tableau = [1, 3, 5, 7]\n",
    "ajouter_tableau_trie(tableau, 4)\n",
    "ajouter_tableau_trie(tableau, 2)\n",
    "ajouter_tableau_trie(tableau, 6)\n",
    "print(tableau)"
   ]
  },
  {
   "cell_type": "markdown",
   "metadata": {
    "deletable": false,
    "editable": false,
    "run_control": {
     "frozen": true
    }
   },
   "source": [
    "- Quelle est la complexité dans le pire des cas de chacune de ces fonctions ?"
   ]
  },
  {
   "cell_type": "markdown",
   "metadata": {
    "deletable": false,
    "run_control": {
     "frozen": false
    },
    "tags": [
     "answer"
    ]
   },
   "source": [
    "**Réponse :** Écrire votre réponse ici.\n",
    "\n",
    "\n"
   ]
  },
  {
   "cell_type": "markdown",
   "metadata": {
    "deletable": false,
    "editable": false,
    "run_control": {
     "frozen": true
    }
   },
   "source": [
    "### Question 3 : Suppression d'un élément"
   ]
  },
  {
   "cell_type": "markdown",
   "metadata": {
    "deletable": false,
    "editable": false,
    "run_control": {
     "frozen": true
    }
   },
   "source": [
    "* Définir la fonction `supprimer_tableau` prenant en paramètre un tableau et un indice `id` et supprimant dans le tableau la valeur d'indice `id`.\n",
    "\n",
    "  On utilisera pour cela la fonction `L.pop()` qui supprime la dernière case d'un tableau, mais pas la fonction `L.pop(i)`"
   ]
  },
  {
   "cell_type": "code",
   "execution_count": 38,
   "metadata": {
    "tags": [
     "answer"
    ]
   },
   "outputs": [
    {
     "name": "stdout",
     "output_type": "stream",
     "text": [
      "[1, 2, 4, 5]\n"
     ]
    }
   ],
   "source": [
    "def supprimer_tableau(tableau, id):\n",
    "    if id < len(tableau):\n",
    "        del tableau[id]\n",
    "tableau = [1, 2, 3, 4, 5]\n",
    "supprimer_tableau(tableau, 2)\n",
    "print(tableau) "
   ]
  },
  {
   "cell_type": "markdown",
   "metadata": {
    "deletable": false,
    "editable": false,
    "run_control": {
     "frozen": true
    }
   },
   "source": [
    "* Définir la fonction `supprimer_tableau_trie` prenant en paramètre un tableau trié et un indice `id` et supprimant dans le tableau la valeur d'indice `id`."
   ]
  },
  {
   "cell_type": "code",
   "execution_count": 39,
   "metadata": {
    "tags": [
     "answer"
    ]
   },
   "outputs": [
    {
     "name": "stdout",
     "output_type": "stream",
     "text": [
      "[1, 2, 4, 5]\n"
     ]
    }
   ],
   "source": [
    "def supprimer_tableau_trie(tableau, id):\n",
    "    if id < len(tableau):\n",
    "        tableau.pop(id)\n",
    "tableau = [1, 2, 3, 4, 5]\n",
    "supprimer_tableau_trie(tableau, 2)\n",
    "print(tableau)"
   ]
  },
  {
   "cell_type": "markdown",
   "metadata": {
    "deletable": false,
    "editable": false,
    "run_control": {
     "frozen": true
    }
   },
   "source": [
    "- Quelle est la complexité dans le pire des cas de chacune de ces fonctions ?"
   ]
  },
  {
   "cell_type": "markdown",
   "metadata": {
    "deletable": false,
    "run_control": {
     "frozen": false
    },
    "tags": [
     "answer"
    ]
   },
   "source": [
    "**Réponse :** Écrire votre réponse ici.\n",
    "\n",
    "\n"
   ]
  },
  {
   "cell_type": "markdown",
   "metadata": {
    "deletable": false,
    "editable": false,
    "run_control": {
     "frozen": true
    }
   },
   "source": [
    "## Exercice 5 : Réarrangement de tableau**"
   ]
  },
  {
   "cell_type": "markdown",
   "metadata": {
    "deletable": false,
    "editable": false,
    "run_control": {
     "frozen": true
    }
   },
   "source": [
    "### Question 1\n",
    "\n",
    "Écrire une fonction `deplacer(T, k)` prenant en paramètre un tableau `T` et une valeur `k` et permutant les valeurs du tableau `T` de manière à ce que toutes les valeurs strictement inférieures à `k` soient au début de tableau. "
   ]
  },
  {
   "cell_type": "markdown",
   "metadata": {
    "deletable": false,
    "editable": false,
    "run_control": {
     "frozen": true
    }
   },
   "source": [
    "**Remarque :** L'ordre des éléments dans le tableau n'a pas d'importance tant que les éléments strictement inférieurs à `k` sont placés au début du tableau."
   ]
  },
  {
   "cell_type": "code",
   "execution_count": 44,
   "metadata": {
    "tags": [
     "answer"
    ]
   },
   "outputs": [
    {
     "name": "stdout",
     "output_type": "stream",
     "text": [
      "[4, 2, 6, 3, 8, 5, 1, 7]\n"
     ]
    }
   ],
   "source": [
    "def deplacer(T, k):\n",
    "    debut = 0\n",
    "    fin = len(T) - 1\n",
    "    while debut < fin:\n",
    "        if T[debut] < k:\n",
    "            debut += 1\n",
    "        elif T[fin] <= k:\n",
    "            fin -= 1\n",
    "        else:\n",
    "            T[debut], T[fin] = T[fin], T[debut]\n",
    "            debut += 1\n",
    "            fin -= 1\n",
    "    return T\n",
    "T = [4, 2, 7, 3, 8, 5, 1, 6]\n",
    "k = 5\n",
    "T = deplacer(T, k)\n",
    "print(T)"
   ]
  },
  {
   "cell_type": "markdown",
   "metadata": {
    "deletable": false,
    "editable": false,
    "run_control": {
     "frozen": true
    }
   },
   "source": [
    "### Question 2\n",
    "\n",
    "Définir une fonction de tests unitaires de la fonction `deplacer`."
   ]
  },
  {
   "cell_type": "code",
   "execution_count": 46,
   "metadata": {
    "tags": [
     "answer"
    ]
   },
   "outputs": [
    {
     "name": "stdout",
     "output_type": "stream",
     "text": [
      "Tous les tests ont réussi !\n"
     ]
    }
   ],
   "source": [
    "def test_deplacer():\n",
    "    # Test avec un tableau vide\n",
    "    T = []\n",
    "    k = 5\n",
    "    assert deplacer(T, k) == []\n",
    "\n",
    "    # Test avec un tableau contenant un seul élément\n",
    "    T = [3]\n",
    "    k = 5\n",
    "    assert deplacer(T, k) == [3]\n",
    "\n",
    "    # Test avec un tableau contenant deux éléments\n",
    "    T = [4, 2]\n",
    "    k = 5\n",
    "    assert deplacer(T, k) == [4, 2]\n",
    "\n",
    "    # Test avec un tableau contenant plusieurs éléments\n",
    "    T = [4, 2, 7, 3, 8, 5, 1, 6]\n",
    "    k = 5\n",
    "    assert deplacer(T, k) == [4, 2, 3, 1, 5, 7, 8, 6]\n",
    "\n",
    "    # Test avec un tableau contenant plusieurs occurrences de la valeur k\n",
    "    T = [4, 5, 2, 5, 7, 5, 3, 5, 8, 5, 5, 1, 6]\n",
    "    k = 5\n",
    "    assert deplacer(T, k) == [4, 2, 3, 1, 5, 7, 8, 6, 5, 5, 5, 5]\n",
    "\n",
    "print(\"Tous les tests ont réussi !\")\n",
    "\n",
    "\n"
   ]
  },
  {
   "cell_type": "code",
   "execution_count": null,
   "id": "d1b4a736",
   "metadata": {},
   "outputs": [],
   "source": []
  }
 ],
 "metadata": {
  "celltoolbar": "Format de la Cellule Texte Brut",
  "kernelspec": {
   "display_name": "base",
   "language": "python",
   "name": "python3"
  },
  "language_info": {
   "codemirror_mode": {
    "name": "ipython",
    "version": 3
   },
   "file_extension": ".py",
   "mimetype": "text/x-python",
   "name": "python",
   "nbconvert_exporter": "python",
   "pygments_lexer": "ipython3",
   "version": "3.9.12"
  },
  "toc": {
   "base_numbering": 1,
   "nav_menu": {},
   "number_sections": false,
   "sideBar": false,
   "skip_h1_title": false,
   "title_cell": "Table of Contents",
   "title_sidebar": "Contents",
   "toc_cell": false,
   "toc_position": {},
   "toc_section_display": false,
   "toc_window_display": false
  },
  "vscode": {
   "interpreter": {
    "hash": "1b83ab13acf5ff66e6688fc41d78c22312541a4bb48f68228fb71ca319850550"
   }
  }
 },
 "nbformat": 4,
 "nbformat_minor": 5
}
